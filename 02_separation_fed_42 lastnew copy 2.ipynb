{
 "cells": [
  {
   "cell_type": "code",
   "execution_count": 1,
   "metadata": {},
   "outputs": [],
   "source": [
    "from IPython.core.interactiveshell import InteractiveShell\n",
    "InteractiveShell.ast_node_interactivity = \"all\""
   ]
  },
  {
   "cell_type": "code",
   "execution_count": 2,
   "metadata": {},
   "outputs": [],
   "source": [
    "%load_ext autoreload\n",
    "%autoreload 2"
   ]
  },
  {
   "cell_type": "code",
   "execution_count": 3,
   "metadata": {},
   "outputs": [],
   "source": [
    "import numpy as np\n",
    "import pandas as pd\n",
    "from tensorflow.keras.datasets import mnist\n",
    "from sklearn.model_selection import train_test_split\n",
    "\n",
    "def split_mnist(n, c, d):\n",
    "    # Load MNIST dataset\n",
    "    (X_train, y_train), (X_test, y_test) = mnist.load_data()\n",
    "    # Concatenate train and test sets\n",
    "    X = np.concatenate((X_train, X_test))\n",
    "    y = np.concatenate((y_train, y_test))\n",
    "    \n",
    "    # Create dictionary to store partitions\n",
    "    partitions = {}\n",
    "    for i in range(n * c):\n",
    "        partitions[i] = {'X': [], 'y': []}\n",
    "    \n",
    "    # Iterate over classes and create partitions\n",
    "    for label in range(n):\n",
    "        # Get indices of samples with current label\n",
    "        indices = np.where(y == label)[0]\n",
    "        # Split indices into c partitions\n",
    "        partitions_indices = np.array_split(indices, c)\n",
    "        # Iterate over partitions and fill them with samples\n",
    "        for i, partition_indices in enumerate(partitions_indices):\n",
    "            # Get samples with current partition_indices\n",
    "            X_partition = X[partition_indices]\n",
    "            y_partition = y[partition_indices]\n",
    "            # Calculate number of samples to keep from current class\n",
    "            n_samples = int(d / 100 * len(partition_indices))\n",
    "            # Add n_samples to partition\n",
    "            partitions[label * c + i]['X'].extend(X_partition[:n_samples])\n",
    "            partitions[label * c + i]['y'].extend(y_partition[:n_samples])\n",
    "            # Add remaining samples to other classes partitions\n",
    "            for other_label in range(n):\n",
    "                if other_label != label:\n",
    "                    other_indices = np.where(y == other_label)[0]\n",
    "                    other_partition_indices = np.random.choice(other_indices, len(partition_indices) - n_samples, replace=False)\n",
    "                    partitions[label * c + i]['X'].extend(X[other_partition_indices])\n",
    "                    partitions[label * c + i]['y'].extend(y[other_partition_indices])\n",
    "    return partitions\n",
    "    \n",
    "    # Split partitions into train and test sets\n",
    "    X_train, X_test, y_train, y_test = [], [], [], []\n",
    "    for i in range(n * c):\n",
    "        X_partition = np.array(partitions[i]['X'])\n",
    "        y_partition = np.array(partitions[i]['y'])\n",
    "        X_train_part, X_test_part, y_train_part, y_test_part = train_test_split(X_partition, y_partition, test_size=0.2)\n",
    "        X_train.append(X_train_part)\n",
    "        X_test.append(X_test_part)\n",
    "        y_train.append(y_train_part)\n",
    "        y_test.append(y_test_part)\n",
    "    \n",
    "    # Concatenate train and test sets\n",
    "    X_train = np.concatenate(X_train)\n",
    "    X_test = np.concatenate(X_test)\n",
    "    y_train = np.concatenate(y_train)\n",
    "    y_test = np.concatenate(y_test)\n",
    "    \n",
    "    return (X_train, X_test, y_train, y_test)\n"
   ]
  },
  {
   "cell_type": "code",
   "execution_count": 4,
   "metadata": {},
   "outputs": [],
   "source": [
    "# Split MNIST into 10*3 partitions where each partition contains 70% samples from one class\n",
    "#X_train, X_test, y_train, y_test = split_mnist(n=10, c=9, d=90)\n",
    "part = split_mnist(n=10, c=9, d=90)"
   ]
  },
  {
   "cell_type": "code",
   "execution_count": 18,
   "metadata": {},
   "outputs": [
    {
     "data": {
      "text/plain": [
       "0    690\n",
       "1     77\n",
       "2     77\n",
       "3     77\n",
       "4     77\n",
       "5     77\n",
       "6     77\n",
       "7     77\n",
       "8     77\n",
       "9     77\n",
       "Name: 0, dtype: int64"
      ]
     },
     "execution_count": 18,
     "metadata": {},
     "output_type": "execute_result"
    }
   ],
   "source": [
    "#(X_train, y_train), (X_test, y_test) = mnist.load_data()\n",
    "pd.DataFrame(part[0]['y'])[0].value_counts()"
   ]
  },
  {
   "cell_type": "code",
   "execution_count": null,
   "metadata": {},
   "outputs": [],
   "source": [
    "0"
   ]
  }
 ],
 "metadata": {
  "kernelspec": {
   "display_name": "venv",
   "language": "python",
   "name": "python3"
  },
  "language_info": {
   "codemirror_mode": {
    "name": "ipython",
    "version": 3
   },
   "file_extension": ".py",
   "mimetype": "text/x-python",
   "name": "python",
   "nbconvert_exporter": "python",
   "pygments_lexer": "ipython3",
   "version": "3.9.15"
  },
  "vscode": {
   "interpreter": {
    "hash": "593665181263e4e28b0282309c1fb63b3ae40b89f9103e442a55dea02677e3c6"
   }
  }
 },
 "nbformat": 4,
 "nbformat_minor": 4
}
